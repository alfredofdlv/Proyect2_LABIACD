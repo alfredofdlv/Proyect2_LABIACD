{
 "cells": [
  {
   "cell_type": "code",
   "execution_count": 59,
   "metadata": {},
   "outputs": [
    {
     "name": "stderr",
     "output_type": "stream",
     "text": [
      "[*********************100%***********************]  1 of 1 completed"
     ]
    },
    {
     "name": "stdout",
     "output_type": "stream",
     "text": [
      "S&P 500 index data saved to sp500.csv\n"
     ]
    },
    {
     "name": "stderr",
     "output_type": "stream",
     "text": [
      "\n"
     ]
    }
   ],
   "source": [
    "import yfinance as yf\n",
    "\n",
    "# Define the function to fetch historical S&P 500 index data\n",
    "def fetch_sp500_index_data(start_date=\"2010-01-01\", end_date=\"2024-01-31\"):\n",
    "    # Fetch data for the S&P 500 index symbol '^GSPC'\n",
    "    sp500_data = yf.download(\"^GSPC\", start=start_date, end=end_date)\n",
    "    if sp500_data.empty:\n",
    "        print(\"No data found for S&P 500 index.\")\n",
    "        return None\n",
    "    \n",
    "    # Save the data to a CSV file\n",
    "    sp500_data.to_csv(\"sp500.csv\")\n",
    "    print(\"S&P 500 index data saved to sp500.csv\")\n",
    "\n",
    "# Fetch and save the data\n",
    "fetch_sp500_index_data()\n"
   ]
  },
  {
   "cell_type": "code",
   "execution_count": 60,
   "metadata": {},
   "outputs": [
    {
     "name": "stdout",
     "output_type": "stream",
     "text": [
      "Index(['Date', 'Adj Close', 'Close', 'High', 'Low', 'Open', 'Volume'], dtype='object')\n"
     ]
    }
   ],
   "source": [
    "import pandas as pd \n",
    "df=pd.read_csv('sp500.csv')\n",
    "df = df.iloc[2:]\n",
    "df.rename(columns={'Price':'Date'},inplace=True)\n",
    "\n",
    "print(df.columns)\n",
    "df['Date']=pd.to_datetime(df['Date'])\n",
    "\n",
    "\n"
   ]
  },
  {
   "cell_type": "code",
   "execution_count": 64,
   "metadata": {},
   "outputs": [
    {
     "data": {
      "text/html": [
       "<div>\n",
       "<style scoped>\n",
       "    .dataframe tbody tr th:only-of-type {\n",
       "        vertical-align: middle;\n",
       "    }\n",
       "\n",
       "    .dataframe tbody tr th {\n",
       "        vertical-align: top;\n",
       "    }\n",
       "\n",
       "    .dataframe thead th {\n",
       "        text-align: right;\n",
       "    }\n",
       "</style>\n",
       "<table border=\"1\" class=\"dataframe\">\n",
       "  <thead>\n",
       "    <tr style=\"text-align: right;\">\n",
       "      <th></th>\n",
       "      <th>Date</th>\n",
       "      <th>Adj Close</th>\n",
       "      <th>Close</th>\n",
       "      <th>High</th>\n",
       "      <th>Low</th>\n",
       "      <th>Open</th>\n",
       "      <th>Volume</th>\n",
       "    </tr>\n",
       "  </thead>\n",
       "  <tbody>\n",
       "    <tr>\n",
       "      <th>2</th>\n",
       "      <td>2010-01-04 00:00:00+00:00</td>\n",
       "      <td>1132.989990</td>\n",
       "      <td>1132.989990</td>\n",
       "      <td>1133.869995</td>\n",
       "      <td>1116.560059</td>\n",
       "      <td>1116.560059</td>\n",
       "      <td>3991400000</td>\n",
       "    </tr>\n",
       "    <tr>\n",
       "      <th>3</th>\n",
       "      <td>2010-01-05 00:00:00+00:00</td>\n",
       "      <td>1136.520020</td>\n",
       "      <td>1136.520020</td>\n",
       "      <td>1136.630005</td>\n",
       "      <td>1129.660034</td>\n",
       "      <td>1132.660034</td>\n",
       "      <td>2491020000</td>\n",
       "    </tr>\n",
       "    <tr>\n",
       "      <th>4</th>\n",
       "      <td>2010-01-06 00:00:00+00:00</td>\n",
       "      <td>1137.140015</td>\n",
       "      <td>1137.140015</td>\n",
       "      <td>1139.189941</td>\n",
       "      <td>1133.949951</td>\n",
       "      <td>1135.709961</td>\n",
       "      <td>4972660000</td>\n",
       "    </tr>\n",
       "    <tr>\n",
       "      <th>5</th>\n",
       "      <td>2010-01-07 00:00:00+00:00</td>\n",
       "      <td>1141.689941</td>\n",
       "      <td>1141.689941</td>\n",
       "      <td>1142.459961</td>\n",
       "      <td>1131.319946</td>\n",
       "      <td>1136.270020</td>\n",
       "      <td>5270680000</td>\n",
       "    </tr>\n",
       "    <tr>\n",
       "      <th>6</th>\n",
       "      <td>2010-01-08 00:00:00+00:00</td>\n",
       "      <td>1144.979980</td>\n",
       "      <td>1144.979980</td>\n",
       "      <td>1145.390015</td>\n",
       "      <td>1136.219971</td>\n",
       "      <td>1140.520020</td>\n",
       "      <td>4389590000</td>\n",
       "    </tr>\n",
       "  </tbody>\n",
       "</table>\n",
       "</div>"
      ],
      "text/plain": [
       "                       Date    Adj Close        Close         High  \\\n",
       "2 2010-01-04 00:00:00+00:00  1132.989990  1132.989990  1133.869995   \n",
       "3 2010-01-05 00:00:00+00:00  1136.520020  1136.520020  1136.630005   \n",
       "4 2010-01-06 00:00:00+00:00  1137.140015  1137.140015  1139.189941   \n",
       "5 2010-01-07 00:00:00+00:00  1141.689941  1141.689941  1142.459961   \n",
       "6 2010-01-08 00:00:00+00:00  1144.979980  1144.979980  1145.390015   \n",
       "\n",
       "           Low         Open      Volume  \n",
       "2  1116.560059  1116.560059  3991400000  \n",
       "3  1129.660034  1132.660034  2491020000  \n",
       "4  1133.949951  1135.709961  4972660000  \n",
       "5  1131.319946  1136.270020  5270680000  \n",
       "6  1136.219971  1140.520020  4389590000  "
      ]
     },
     "metadata": {},
     "output_type": "display_data"
    },
    {
     "name": "stdout",
     "output_type": "stream",
     "text": [
      "Date         0\n",
      "Adj Close    0\n",
      "Close        0\n",
      "High         0\n",
      "Low          0\n",
      "Open         0\n",
      "Volume       0\n",
      "dtype: int64\n",
      "Duplicados:  0\n"
     ]
    },
    {
     "data": {
      "text/html": [
       "<div>\n",
       "<style scoped>\n",
       "    .dataframe tbody tr th:only-of-type {\n",
       "        vertical-align: middle;\n",
       "    }\n",
       "\n",
       "    .dataframe tbody tr th {\n",
       "        vertical-align: top;\n",
       "    }\n",
       "\n",
       "    .dataframe thead th {\n",
       "        text-align: right;\n",
       "    }\n",
       "</style>\n",
       "<table border=\"1\" class=\"dataframe\">\n",
       "  <thead>\n",
       "    <tr style=\"text-align: right;\">\n",
       "      <th></th>\n",
       "      <th>Adj Close</th>\n",
       "      <th>Close</th>\n",
       "      <th>High</th>\n",
       "      <th>Low</th>\n",
       "      <th>Open</th>\n",
       "      <th>Volume</th>\n",
       "    </tr>\n",
       "  </thead>\n",
       "  <tbody>\n",
       "    <tr>\n",
       "      <th>2</th>\n",
       "      <td>1132.989990</td>\n",
       "      <td>1132.989990</td>\n",
       "      <td>1133.869995</td>\n",
       "      <td>1116.560059</td>\n",
       "      <td>1116.560059</td>\n",
       "      <td>3991400000</td>\n",
       "    </tr>\n",
       "    <tr>\n",
       "      <th>3</th>\n",
       "      <td>1136.520020</td>\n",
       "      <td>1136.520020</td>\n",
       "      <td>1136.630005</td>\n",
       "      <td>1129.660034</td>\n",
       "      <td>1132.660034</td>\n",
       "      <td>2491020000</td>\n",
       "    </tr>\n",
       "    <tr>\n",
       "      <th>4</th>\n",
       "      <td>1137.140015</td>\n",
       "      <td>1137.140015</td>\n",
       "      <td>1139.189941</td>\n",
       "      <td>1133.949951</td>\n",
       "      <td>1135.709961</td>\n",
       "      <td>4972660000</td>\n",
       "    </tr>\n",
       "    <tr>\n",
       "      <th>5</th>\n",
       "      <td>1141.689941</td>\n",
       "      <td>1141.689941</td>\n",
       "      <td>1142.459961</td>\n",
       "      <td>1131.319946</td>\n",
       "      <td>1136.270020</td>\n",
       "      <td>5270680000</td>\n",
       "    </tr>\n",
       "    <tr>\n",
       "      <th>6</th>\n",
       "      <td>1144.979980</td>\n",
       "      <td>1144.979980</td>\n",
       "      <td>1145.390015</td>\n",
       "      <td>1136.219971</td>\n",
       "      <td>1140.520020</td>\n",
       "      <td>4389590000</td>\n",
       "    </tr>\n",
       "  </tbody>\n",
       "</table>\n",
       "</div>"
      ],
      "text/plain": [
       "     Adj Close        Close         High          Low         Open      Volume\n",
       "2  1132.989990  1132.989990  1133.869995  1116.560059  1116.560059  3991400000\n",
       "3  1136.520020  1136.520020  1136.630005  1129.660034  1132.660034  2491020000\n",
       "4  1137.140015  1137.140015  1139.189941  1133.949951  1135.709961  4972660000\n",
       "5  1141.689941  1141.689941  1142.459961  1131.319946  1136.270020  5270680000\n",
       "6  1144.979980  1144.979980  1145.390015  1136.219971  1140.520020  4389590000"
      ]
     },
     "metadata": {},
     "output_type": "display_data"
    }
   ],
   "source": [
    "display(df.head())\n",
    "\n",
    "print(df.isnull().sum())\n",
    "\n",
    "print('Duplicados: ',df.duplicated().sum())\n",
    "\n",
    "\n",
    "# Iterar sobre todas las columnas menos 'Date'\n",
    "for columna in df.columns:\n",
    "    if columna != 'Date':\n",
    "        # Verificar valores no numéricos en la columna\n",
    "        non_numeric_values = df[columna][~df[columna].apply(lambda x: isinstance(x, (int, float)))]\n",
    "        # Convertir la columna a tipo numérico, forzando los errores a NaN\n",
    "        df[columna] = pd.to_numeric(df[columna], errors='coerce')\n",
    "\n",
    "# Dividir train y test  \n",
    "\n",
    "train=df[df['Date']<'2024-01-01']\n",
    "test=df[df['Date']>='2024-01-01']\n",
    "\n",
    "train=train.drop(columns='Date')\n",
    "test=test.drop(columns='Date')\n",
    "\n",
    "display(train.head())\n"
   ]
  }
 ],
 "metadata": {
  "kernelspec": {
   "display_name": ".venv",
   "language": "python",
   "name": "python3"
  },
  "language_info": {
   "codemirror_mode": {
    "name": "ipython",
    "version": 3
   },
   "file_extension": ".py",
   "mimetype": "text/x-python",
   "name": "python",
   "nbconvert_exporter": "python",
   "pygments_lexer": "ipython3",
   "version": "3.11.9"
  }
 },
 "nbformat": 4,
 "nbformat_minor": 2
}
